{
 "cells": [
  {
   "cell_type": "code",
   "execution_count": 2,
   "id": "030ed2c8-93d6-475e-b09c-9953a254ba0e",
   "metadata": {},
   "outputs": [],
   "source": [
    "# import requests\n",
    "import os\n",
    "\n",
    "# filepath = os.getcwd()\n",
    "# filename = os.path.join(filepath, \"files\",\"transcript.txt\")\n",
    "# filename\n",
    "\n",
    "# url = \"https://api.openai.com/v1/completions?model=text-davinci-003&max_tokens=500&temperature=0.5&top_p=0.5&presence_penalty=0.2&frequency_penalty=0.5\"\n",
    "\n",
    "# payload = \"{\" + clean_file(filename) + \"}\"\n",
    "# headers = {\n",
    "#   'Authorization': 'Bearer YOUR_API_KEY',\n",
    "#   'Content-Type': 'text/plain'\n",
    "# }\n",
    "\n",
    "# response = requests.request(\"GET\", url, \n",
    "#   headers=headers, data=payload)\n",
    "\n",
    "# print(response.text)"
   ]
  },
  {
   "cell_type": "code",
   "execution_count": 3,
   "id": "42073835-212e-4fde-8ddd-64db9861e989",
   "metadata": {},
   "outputs": [],
   "source": [
    "def replace_name(name):\n",
    "    # Split name into last name and first name\n",
    "    last_name, first_name = name.split(', ')\n",
    "    # Get first letter of each name and capitalize them\n",
    "    first_initial = first_name[0].upper()\n",
    "    last_initial = last_name[0].upper()\n",
    "    # Combine initials into new name\n",
    "    new_name = f\"{last_initial}{first_initial}\"\n",
    "    return new_name"
   ]
  },
  {
   "cell_type": "code",
   "execution_count": 4,
   "id": "925e206d-2d72-455c-9c57-5fd5b26e2e9d",
   "metadata": {
    "tags": []
   },
   "outputs": [],
   "source": [
    "import re\n",
    "\n",
    "filepath = os.getcwd()\n",
    "inFile = os.path.join(filepath, \"files\",\"HighDollarWorkspace_2023-03-27.txt\")\n",
    "\n",
    "with open(inFile, 'r') as f:\n",
    "    lines = f.readlines()\n",
    "\n",
    "cleaned_lines = []\n",
    "for line in lines:\n",
    "    # Remove any non-ascii characters\n",
    "    line = line.encode('ascii', 'ignore').decode()\n",
    "\n",
    "    # Remove any line breaks or carriage returns\n",
    "    line = re.sub(r'[\\n\\r]+', '\\n', line)\n",
    "\n",
    "    if line.startswith('0'):\n",
    "        continue\n",
    "\n",
    "    if ',' in line and len(line.split(', ')) == 2:\n",
    "        last_name, first_name = line.split(', ')\n",
    "        \n",
    "        if last_name[0].isupper() and first_name[0].isupper():\n",
    "            \n",
    "            initials = first_name[0] + last_name[0]\n",
    "            \n",
    "            #cleaned_lines.append(initials)\n",
    "            cleaned_lines.append(\" \")\n",
    "    else:\n",
    "        \n",
    "        cleaned_lines.append(line)\n",
    "\n",
    "# Join the cleaned lines into a single string\n",
    "output_str = ''.join(cleaned_lines)"
   ]
  },
  {
   "cell_type": "code",
   "execution_count": 5,
   "id": "bbd3c170-9ce5-407f-a891-6bed87e9c417",
   "metadata": {},
   "outputs": [],
   "source": [
    "split_text_into_files(output_str)\n"
   ]
  },
  {
   "cell_type": "code",
   "execution_count": 1,
   "id": "cd196a2c-ad07-4ce4-9aab-e8d7e995cf36",
   "metadata": {},
   "outputs": [],
   "source": [
    "import math\n",
    "def split_text_into_files(text):\n",
    "    # Split text into words\n",
    "    words = text.split()\n",
    "    # Calculate number of files needed\n",
    "    num_files = math.ceil(len(words) / 1000)\n",
    "    # Write each chunk of text to a separate file\n",
    "    for i in range(num_files):\n",
    "        start_index = i * 1000\n",
    "        end_index = min((i + 1) * 1000, len(words))\n",
    "        chunk = ' '.join(words[start_index:end_index])\n",
    "        fname = f'OutA_{i+1}.txt'\n",
    "        filename = os.path.join(filepath, \"files\", fname)\n",
    "        with open(filename, 'w') as f:\n",
    "            f.write(chunk)\n"
   ]
  },
  {
   "cell_type": "code",
   "execution_count": null,
   "id": "339d4aa8-3d9d-47d4-9b82-bd234817255d",
   "metadata": {},
   "outputs": [],
   "source": []
  }
 ],
 "metadata": {
  "kernelspec": {
   "display_name": "Python 3",
   "language": "python",
   "name": "python3"
  },
  "language_info": {
   "codemirror_mode": {
    "name": "ipython",
    "version": 3
   },
   "file_extension": ".py",
   "mimetype": "text/x-python",
   "name": "python",
   "nbconvert_exporter": "python",
   "pygments_lexer": "ipython3",
   "version": "3.8.8"
  }
 },
 "nbformat": 4,
 "nbformat_minor": 5
}
